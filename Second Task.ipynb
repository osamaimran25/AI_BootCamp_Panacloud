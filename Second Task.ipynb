{
 "cells": [
  {
   "cell_type": "markdown",
   "metadata": {
    "dc": {
     "key": "4"
    },
    "deletable": false,
    "editable": false,
    "run_control": {
     "frozen": true
    },
    "tags": [
     "context"
    ]
   },
   "source": [
    "## 1. Bitcoin. Cryptocurrencies. So hot right now.\n",
    "<p>Since the <a href=\"https://newfronttest.bitcoin.com/bitcoin.pdf\">launch of Bitcoin in 2008</a>, hundreds of similar projects based on the blockchain technology have emerged. We call these cryptocurrencies (also coins or cryptos in the Internet slang). Some are extremely valuable nowadays, and others may have the potential to become extremely valuable in the future<sup>1</sup>. In fact, the 6th of December of 2017 Bitcoin has a <a href=\"https://en.wikipedia.org/wiki/Market_capitalization\">market capitalization</a> above $200 billion. </p>\n",
    "<p><center>\n",
    "<img src=\"https://s3.amazonaws.com/assets.datacamp.com/production/project_82/img/bitcoint_market_cap_2017.png\" style=\"width:500px\"> <br> \n",
    "<em>The astonishing increase of Bitcoin market capitalization in 2017.</em></center></p>\n",
    "<p>*<sup>1</sup>- <strong>WARNING</strong>: The cryptocurrency market is exceptionally volatile and any money you put in might disappear into thin air.  Cryptocurrencies mentioned here <strong>might be scams</strong> similar to <a href=\"https://en.wikipedia.org/wiki/Ponzi_scheme\">Ponzi Schemes</a> or have many other issues (overvaluation, technical, etc.). <strong>Please do not mistake this for investment advice</strong>. *</p>\n",
    "<p>That said, let's get to business. As a first task, we will load the current data from the <a href=\"https://api.coinmarketcap.com\">coinmarketcap API</a> and display it in the output.</p>"
   ]
  },
  {
   "cell_type": "code",
   "execution_count": 3,
   "metadata": {
    "dc": {
     "key": "4"
    },
    "tags": [
     "sample_code"
    ]
   },
   "outputs": [
    {
     "name": "stdout",
     "output_type": "stream",
     "text": [
      "   24h_volume_usd available_supply                id last_updated  \\\n",
      "0    6299520000.0       16913137.0           bitcoin   1520792666   \n",
      "1    1619350000.0       98125118.0          ethereum   1520792652   \n",
      "2     492817000.0    39091956706.0            ripple   1520792641   \n",
      "3     491518000.0       17012225.0      bitcoin-cash   1520792651   \n",
      "4     697175000.0       55582643.0          litecoin   1520792641   \n",
      "5     126454000.0       65000000.0               neo   1520792647   \n",
      "6     149722000.0    25927070538.0           cardano   1520792653   \n",
      "7      25955700.0    18498419832.0           stellar   1520792643   \n",
      "8     297133000.0      721670479.0               eos   1520792651   \n",
      "9      77684800.0       15813103.0            monero   1520792642   \n",
      "10     97809900.0        7939998.0              dash   1520792641   \n",
      "11     35749200.0     2779530283.0              iota   1520792650   \n",
      "12     25225800.0     8999999999.0               nem   1520792644   \n",
      "13    264246000.0    65748192475.0              tron   1520792653   \n",
      "14   2442360000.0     2217140814.0            tether   1520792645   \n",
      "15    287145000.0      100435945.0  ethereum-classic   1520792647   \n",
      "16     68186400.0      483665391.0           vechain   1520792653   \n",
      "17     66841900.0      133248289.0              nano   1520792648   \n",
      "18     18847700.0      102710474.0              lisk   1520792646   \n",
      "19     34432200.0      102042552.0           omisego   1520792651   \n",
      "20    118039000.0       73941372.0              qtum   1520792650   \n",
      "\n",
      "   market_cap_usd     max_supply              name percent_change_1h  \\\n",
      "0    163456674274     21000000.0           Bitcoin              3.07   \n",
      "1   71995576921.0           None          Ethereum              2.19   \n",
      "2   32600854571.0   100000000000            Ripple              1.41   \n",
      "3   19443442075.0     21000000.0      Bitcoin Cash              3.54   \n",
      "4   10678148246.0     84000000.0          Litecoin               1.4   \n",
      "5    5952037000.0    100000000.0               NEO              1.65   \n",
      "6    5768980611.0  45000000000.0           Cardano              2.29   \n",
      "7    5648344508.0           None           Stellar              2.07   \n",
      "8    4490565690.0   1000000000.0               EOS              1.77   \n",
      "9    4468419079.0           None            Monero              3.46   \n",
      "10   4242460287.0     18900000.0              Dash              2.86   \n",
      "11   3934675273.0   2779530283.0              IOTA              2.63   \n",
      "12   3219075000.0           None               NEM              1.17   \n",
      "13   2537696135.0           None              TRON              3.23   \n",
      "14   2228315203.0           None            Tether              0.23   \n",
      "15   2185767384.0           None  Ethereum Classic              2.26   \n",
      "16   1859558002.0           None           VeChain              2.72   \n",
      "17   1586587380.0    133248290.0              Nano              2.59   \n",
      "18   1542577794.0           None              Lisk              2.36   \n",
      "19   1528036191.0           None           OmiseGO              4.54   \n",
      "20   1463869100.0           None              Qtum              2.88   \n",
      "\n",
      "   percent_change_24h percent_change_7d   price_btc  price_usd rank symbol  \\\n",
      "0                4.69             -14.6         1.0    9664.48    1    BTC   \n",
      "1                2.14            -14.78   0.0759532    733.712    2    ETH   \n",
      "2                2.11            -11.79  0.00008633   0.833953    3    XRP   \n",
      "3               10.07             -9.42    0.118313    1142.91    4    BCH   \n",
      "4                3.94             -8.68   0.0198874    192.113    5    LTC   \n",
      "5                2.12            -24.38  0.00947922    91.5698    6    NEO   \n",
      "6                2.51            -24.71  0.00002303   0.222508    7    ADA   \n",
      "7                1.03            -14.03  0.00003161   0.305342    8    XLM   \n",
      "8                1.61            -21.65  0.00064414    6.22246    9    EOS   \n",
      "9                2.19            -21.02   0.0292521    282.577   10    XMR   \n",
      "10               7.01            -12.64   0.0553118    534.315   11   DASH   \n",
      "11               3.13            -25.01  0.00014654    1.41559   12  MIOTA   \n",
      "12                2.5              0.66  0.00003703   0.357675   13    XEM   \n",
      "13               6.77            -19.53  0.00000400  0.0385972   14    TRX   \n",
      "14               0.17              0.57  0.00010404    1.00504   15   USDT   \n",
      "15               0.66            -26.44  0.00225286    21.7628   16    ETC   \n",
      "16               4.02            -17.27    0.000398    3.84472   17    VEN   \n",
      "17               2.68            -22.06   0.0012326     11.907   18   NANO   \n",
      "18               0.18            -19.37  0.00155472    15.0187   19    LSK   \n",
      "19               6.24            -16.13  0.00155015    14.9745   20    OMG   \n",
      "20               4.33            -23.09  0.00204944    19.7977   21   QTUM   \n",
      "\n",
      "     total_supply  \n",
      "0      16913137.0  \n",
      "1      98125118.0  \n",
      "2   99992520283.0  \n",
      "3      17012225.0  \n",
      "4      55582643.0  \n",
      "5     100000000.0  \n",
      "6   31112483745.0  \n",
      "7    103748462367  \n",
      "8     900000000.0  \n",
      "9      15813103.0  \n",
      "10      7939998.0  \n",
      "11   2779530283.0  \n",
      "12   8999999999.0  \n",
      "13   100000000000  \n",
      "14   2280109970.0  \n",
      "15    100435945.0  \n",
      "16    873378637.0  \n",
      "17    133248289.0  \n",
      "18    118927120.0  \n",
      "19    140245398.0  \n",
      "20    100441372.0  \n"
     ]
    }
   ],
   "source": [
    "# Importing pandas\n",
    "import pandas as pd\n",
    "import requests  as r\n",
    "import pandas as pd\n",
    "\n",
    "url=\"https://api.coinmarketcap.com/v1/ticker\"\n",
    "\n",
    "response=r.get(url)\n",
    "my_frame=response.json()\n",
    "\n",
    "df=pd.DataFrame(my_frame)\n",
    "print(df[:21])"
   ]
  },
  {
   "cell_type": "markdown",
   "metadata": {
    "dc": {
     "key": "11"
    },
    "deletable": false,
    "editable": false,
    "run_control": {
     "frozen": true
    },
    "tags": [
     "context"
    ]
   },
   "source": [
    "## 2. Full dataset, filtering, and reproducibility\n",
    "<p>The previous API call returns only the first 100 coins, and we want to explore as many coins as possible. Moreover, we can't produce reproducible analysis with live online data. To solve these problems, we will load a CSV we conveniently saved on the 6th of December of 2017 using the API call <code>https://api.coinmarketcap.com/v1/ticker/?limit=0</code> named <code>datasets/coinmarketcap_06122017.csv</code>. </p>"
   ]
  },
  {
   "cell_type": "code",
   "execution_count": 4,
   "metadata": {
    "dc": {
     "key": "11"
    },
    "tags": [
     "sample_code"
    ]
   },
   "outputs": [
    {
     "data": {
      "text/plain": [
       "id                1326\n",
       "market_cap_usd    1031\n",
       "dtype: int64"
      ]
     },
     "execution_count": 4,
     "metadata": {},
     "output_type": "execute_result"
    }
   ],
   "source": [
    "# Reading datasets/coinmarketcap_06122017.csv into pandas\n",
    "import pandas as pd\n",
    "dec6 = pd.read_csv(\"coinmarketcap_06122017.csv\")\n",
    "\n",
    "\n",
    "# Selecting the 'id' and the 'market_cap_usd' columns\n",
    "market_cap_raw = dec6[['id', 'market_cap_usd']]\n",
    "\n",
    "# Counting the number of values\n",
    "market_cap_raw.count()\n",
    "\n",
    "# ... YOUR CODE FOR TASK 2 ...\n",
    "# Reading datasets/coinmarketcap_06122017.csv into pandas\n",
    "\n"
   ]
  },
  {
   "cell_type": "markdown",
   "metadata": {
    "dc": {
     "key": "18"
    },
    "deletable": false,
    "editable": false,
    "run_control": {
     "frozen": true
    },
    "tags": [
     "context"
    ]
   },
   "source": [
    "## 3. Discard the cryptocurrencies without a market capitalization\n",
    "<p>Why do the <code>count()</code> for <code>id</code> and <code>market_cap_usd</code> differ above? It is because some cryptocurrencies listed in coinmarketcap.com have no known market capitalization, this is represented by <code>NaN</code> in the data, and <code>NaN</code>s are not counted by <code>count()</code>. These cryptocurrencies are of little interest to us in this analysis, so they are safe to remove.</p>"
   ]
  },
  {
   "cell_type": "code",
   "execution_count": 5,
   "metadata": {
    "dc": {
     "key": "18"
    },
    "tags": [
     "sample_code"
    ]
   },
   "outputs": [
    {
     "name": "stdout",
     "output_type": "stream",
     "text": [
      "id                1031\n",
      "market_cap_usd    1031\n",
      "dtype: int64\n"
     ]
    }
   ],
   "source": [
    "# Filtering out rows without a market capitalization\n",
    "cap = market_cap_raw.query('market_cap_usd > 0')\n",
    "\n",
    "# Counting the number of values again\n",
    "print(cap.count())\n"
   ]
  },
  {
   "cell_type": "markdown",
   "metadata": {
    "dc": {
     "key": "25"
    },
    "deletable": false,
    "editable": false,
    "run_control": {
     "frozen": true
    },
    "tags": [
     "context"
    ]
   },
   "source": [
    "## 4. How big is Bitcoin compared with the rest of the cryptocurrencies?\n",
    "<p>At the time of writing, Bitcoin is under serious competition from other projects, but it is still dominant in market capitalization. Let's plot the market capitalization for the top 10 coins as a barplot to better visualize this.</p>"
   ]
  },
  {
   "cell_type": "code",
   "execution_count": 6,
   "metadata": {
    "dc": {
     "key": "25"
    },
    "tags": [
     "sample_code"
    ]
   },
   "outputs": [
    {
     "data": {
      "image/png": "[encoded data removed]",
      "text/plain": [
       "<matplotlib.figure.Figure at 0x1e2800bc630>"
      ]
     },
     "metadata": {},
     "output_type": "display_data"
    }
   ],
   "source": [
    "import numpy as np\n",
    "import matplotlib.pyplot as plt\n",
    "\n",
    "\n",
    "#Declaring these now for later use in the plots\n",
    "TOP_CAP_TITLE = 'Top 10 market capitalization'\n",
    "TOP_CAP_YLABEL = '% of total cap'\n",
    "\n",
    "# Selecting the first 10 rows and setting the index\n",
    "cap10 = dec6[['id','market_cap_usd']].head(10)\n",
    "# Calculating market_cap_perc\n",
    "over_all_sum=sum(cap['market_cap_usd'])\n",
    "# ind_per=[]\n",
    "# for perc in cap10:\n",
    "#     calculation=(cap10/over_all_sum)*100\n",
    "#     ind_per.append(calculation)\n",
    "# ind_per=dict(ind_per)\n",
    "# print(ind_per)\n",
    "ind_per=(np.array(cap10['market_cap_usd'])/over_all_sum)*100\n",
    "label=cap10['id']\n",
    "\n",
    "\n",
    "\n",
    "\n",
    "\n",
    "\n",
    "\n",
    "\n",
    "# Plotting the barplot with the title defined above \n",
    "index=np.arange(len(label))\n",
    "ax=plt.bar(index,ind_per)\n",
    "plt.xlabel(TOP_CAP_TITLE,fontsize=10)\n",
    "plt.ylabel(TOP_CAP_YLABEL,fontsize=10)\n",
    "plt.xticks(index,label,fontsize=8,rotation=45)\n",
    "plt.grid()\n",
    "plt.title(TOP_CAP_TITLE)\n",
    "plt.show()\n",
    "\n",
    "\n",
    "# Annotating the y axis with the label defined above\n",
    "# ... YOUR CODE FOR TASK 4 ..."
   ]
  },
  {
   "cell_type": "markdown",
   "metadata": {
    "dc": {
     "key": "32"
    },
    "deletable": false,
    "editable": false,
    "run_control": {
     "frozen": true
    },
    "tags": [
     "context"
    ]
   },
   "source": [
    "## 5. Making the plot easier to read and more informative\n",
    "<p>While the plot above is informative enough, it can be improved. Bitcoin is too big, and the other coins are hard to distinguish because of this. Instead of the percentage, let's use a log<sup>10</sup> scale of the \"raw\" capitalization. Plus, let's use color to group similar coins and make the plot more informative<sup>1</sup>. </p>\n",
    "<p>For the colors rationale: bitcoin-cash and bitcoin-gold are forks of the bitcoin <a href=\"https://en.wikipedia.org/wiki/Blockchain\">blockchain</a><sup>2</sup>. Ethereum and Cardano both offer Turing Complete <a href=\"https://en.wikipedia.org/wiki/Smart_contract\">smart contracts</a>. Iota and Ripple are not minable. Dash, Litecoin, and Monero get their own color.</p>\n",
    "<p><sup>1</sup> <em>This coloring is a simplification. There are more differences and similarities that are not being represented here.</em></p>\n",
    "<p><sup>2</sup> <em>The bitcoin forks are actually <strong>very</strong> different, but it is out of scope to talk about them here. Please see the warning above and do your own research.</em></p>"
   ]
  },
  {
   "cell_type": "code",
   "execution_count": 7,
   "metadata": {
    "dc": {
     "key": "32"
    },
    "tags": [
     "sample_code"
    ]
   },
   "outputs": [
    {
     "data": {
      "image/png": "[encoded data removed]",
      "text/plain": [
       "<matplotlib.figure.Figure at 0x1e28021ac50>"
      ]
     },
     "metadata": {},
     "output_type": "display_data"
    }
   ],
   "source": [
    "import matplotlib.pyplot as plt\n",
    "\n",
    "\n",
    "#Declaring these now for later use in the plots\n",
    "TOP_CAP_TITLE = 'Top 10 market capitalization'\n",
    "TOP_CAP_YLABEL = '% of total cap'\n",
    "\n",
    "# Selecting the first 10 rows and setting the index\n",
    "cap10 = dec6[['id','market_cap_usd']].head(10)\n",
    "# Calculating market_cap_perc\n",
    "over_all_sum=sum(cap['market_cap_usd'])\n",
    "# ind_per=[]\n",
    "\n",
    "\n",
    "# Colors for the bar plot\n",
    "COLORS = ['orange', 'green', 'orange', 'cyan', 'cyan', 'blue', 'silver', 'orange', 'red', 'green']\n",
    "\n",
    "\n",
    "# Plotting market_cap_usd as before but adding the colors and scaling the y-axis  \n",
    "# Plotting the barplot with the title defined above \n",
    "for i,text in enumerate(ind_per):\n",
    "    plt.annotate('{:5.2f}%'.format(text),(index[i],ind_per[i]))\n",
    "\n",
    "plt.bar(index,ind_per,color=COLORS,log=0)\n",
    "index=np.arange(len(label))\n",
    "\n",
    "plt.xlabel(TOP_CAP_TITLE,fontsize=10)\n",
    "plt.ylabel(TOP_CAP_YLABEL,fontsize=10)\n",
    "plt.xticks(index,label,fontsize=8,rotation=45)\n",
    "\n",
    "plt.title(TOP_CAP_TITLE)\n",
    "\n",
    "plt.show()\n",
    "\n",
    "\n",
    "# Annotating the y axis with 'USD'\n",
    "# ... YOUR CODE FOR TASK 5 ...\n",
    "\n",
    "# Final touch! Removing the xlabel as it is not very informative\n",
    "# ... YOUR CODE FOR TASK 5 ..."
   ]
  },
  {
   "cell_type": "markdown",
   "metadata": {
    "dc": {
     "key": "39"
    },
    "deletable": false,
    "editable": false,
    "run_control": {
     "frozen": true
    },
    "tags": [
     "context"
    ]
   },
   "source": [
    "## 6. What is going on?! Volatility in cryptocurrencies\n",
    "<p>The cryptocurrencies market has been spectacularly volatile since the first exchange opened. This notebook didn't start with a big, bold warning for nothing. Let's explore this volatility a bit more! We will begin by selecting and plotting the 24 hours and 7 days percentage change, which we already have available.</p>"
   ]
  },
  {
   "cell_type": "markdown",
   "metadata": {
    "dc": {
     "key": "46"
    },
    "deletable": false,
    "editable": false,
    "run_control": {
     "frozen": true
    },
    "tags": [
     "context"
    ]
   },
   "source": [
    "## 7. Well, we can already see that things are *a bit* crazy\n",
    "<p>It seems you can lose a lot of money quickly on cryptocurrencies. Let's plot the top 10 biggest gainers and top 10 losers in market capitalization.</p>"
   ]
  },
  {
   "cell_type": "code",
   "execution_count": 8,
   "metadata": {
    "dc": {
     "key": "39"
    },
    "tags": [
     "sample_code"
    ]
   },
   "outputs": [
    {
     "name": "stdout",
     "output_type": "stream",
     "text": [
      "               percent_change_24h  percent_change_7d\n",
      "id                                                  \n",
      "flappycoin                 -95.85             -96.61\n",
      "credence-coin              -94.22             -95.31\n",
      "coupecoin                  -93.93             -61.24\n",
      "tyrocoin                   -79.02             -87.43\n",
      "petrodollar                -76.55             542.96\n"
     ]
    }
   ],
   "source": [
    "import numpy as np\n",
    "# Selecting the id, percent_change_24h and percent_change_7d columns\n",
    "volatility = dec6[['id','percent_change_24h','percent_change_7d']]\n",
    "#print(volatility)\n",
    "\n",
    "# Setting the index to 'id' and dropping all NaN rows\n",
    "volatility = volatility.set_index('id').dropna()\n",
    "\n",
    "\n",
    "\n",
    "# Sorting the DataFrame by percent_change_24h in ascending order\n",
    "volatility = volatility.sort_values(\"percent_change_24h\", ascending=True)\n",
    "# Checking the first few rows\n",
    "# ... YOUR CODE FOR TASK 6 ...\n",
    "print(volatility.head())"
   ]
  },
  {
   "cell_type": "code",
   "execution_count": 9,
   "metadata": {
    "dc": {
     "key": "46"
    },
    "tags": [
     "sample_code"
    ]
   },
   "outputs": [
    {
     "data": {
      "image/png": "[encoded data removed]",
      "text/plain": [
       "<matplotlib.figure.Figure at 0x1e280526438>"
      ]
     },
     "metadata": {},
     "output_type": "display_data"
    }
   ],
   "source": [
    "import numpy as np\n",
    "import matplotlib.pyplot as plt\n",
    "#Defining a function with 2 parameters, the series to plot and the title\n",
    "def top10_subplot(volatility_series, title):\n",
    "    # Making the subplot and the figure for two side by side plots\n",
    "    fig, axes = plt.subplots(nrows=1, ncols=2, figsize=(10, 6))\n",
    "    \n",
    "    # Plotting with pandas the barchart for the top 10 losers\n",
    "    ax = volatility_series[:10]\n",
    "    ax.plot.bar(ax=axes[0] ,width=0.8)\n",
    "    \n",
    "    # Setting the figure's main title to the text passed as parameter\n",
    "    # ... YOUR CODE FOR TASK 7 ...\n",
    "    fig.suptitle(title)\n",
    "    \n",
    "    # Setting the ylabel to '% change'\n",
    "    # ... YOUR CODE FOR TASK 7 ...\n",
    "    axes[0].set_ylabel(\"CAPITAL IN USD\")\n",
    "    axes[0].set_title('Losers')\n",
    "    \n",
    "    # Same as above, but for the top 10 winners\n",
    "    ax = volatility_series[-10:]\n",
    "    ax.plot.bar(ax=axes[1],width=0.8)\n",
    "    axes[1].set_title('Winners')\n",
    "    plt.show()\n",
    "    \n",
    "    # Returning this for good practice, might use later\n",
    "    return fig, ax\n",
    "\n",
    "DTITLE = \"24 hours top losers and winners\"\n",
    "\n",
    "# Calling the function above with the 24 hours period series and title DTITLE  \n",
    "fig, ax = top10_subplot(volatility.percent_change_24h, DTITLE)"
   ]
  },
  {
   "cell_type": "markdown",
   "metadata": {
    "dc": {
     "key": "53"
    },
    "deletable": false,
    "editable": false,
    "run_control": {
     "frozen": true
    },
    "tags": [
     "context"
    ]
   },
   "source": [
    "## 8. Ok, those are... interesting. Let's check the weekly Series too.\n",
    "<p>800% daily increase?! Why are we doing this tutorial and not buying random coins?<sup>1</sup></p>\n",
    "<p>After calming down, let's reuse the function defined above to see what is going weekly instead of daily.</p>\n",
    "<p><em><sup>1</sup> Please take a moment to understand the implications of the red plots on how much value some cryptocurrencies lose in such short periods of time</em></p>"
   ]
  },
  {
   "cell_type": "code",
   "execution_count": 10,
   "metadata": {
    "dc": {
     "key": "53"
    },
    "tags": [
     "sample_code"
    ]
   },
   "outputs": [
    {
     "data": {
      "image/png": "[encoded data removed]",
      "text/plain": [
       "<matplotlib.figure.Figure at 0x1e2fcda2c50>"
      ]
     },
     "metadata": {},
     "output_type": "display_data"
    }
   ],
   "source": [
    "# Sorting in ascending order\n",
    "volatility7d =volatility.sort_values(\"percent_change_7d\", ascending=True)\n",
    "\n",
    "WTITLE = \"Weekly top losers and winners\"\n",
    "\n",
    "# Calling the top10_subplot function\n",
    "fig, ax = top10_subplot(volatility7d.percent_change_7d,WTITLE)"
   ]
  },
  {
   "cell_type": "markdown",
   "metadata": {
    "dc": {
     "key": "60"
    },
    "deletable": false,
    "editable": false,
    "run_control": {
     "frozen": true
    },
    "tags": [
     "context"
    ]
   },
   "source": [
    "## 9. How small is small?\n",
    "<p>The names of the cryptocurrencies above are quite unknown, and there is a considerable fluctuation between the 1 and 7 days percentage changes. As with stocks, and many other financial products, the smaller the capitalization, the bigger the risk and reward. Smaller cryptocurrencies are less stable projects in general, and therefore even riskier investments than the bigger ones<sup>1</sup>. Let's classify our dataset based on Investopedia's capitalization <a href=\"https://www.investopedia.com/video/play/large-cap/\">definitions</a> for company stocks. </p>\n",
    "<p><sup>1</sup> <em>Cryptocurrencies are a new asset class, so they are not directly comparable to stocks. Furthermore, there are no limits set in stone for what a \"small\" or \"large\" stock is. Finally, some investors argue that bitcoin is similar to gold, this would make them more comparable to a <a href=\"https://www.investopedia.com/terms/c/commodity.asp\">commodity</a> instead.</em></p>"
   ]
  },
  {
   "cell_type": "code",
   "execution_count": 11,
   "metadata": {
    "dc": {
     "key": "60"
    },
    "tags": [
     "sample_code"
    ]
   },
   "outputs": [
    {
     "name": "stdout",
     "output_type": "stream",
     "text": [
      "Markets that capital is Greater than 10 Million\n",
      "                  id  market_cap_usd\n",
      "0            bitcoin    2.130493e+11\n",
      "1           ethereum    4.352945e+10\n",
      "2       bitcoin-cash    2.529585e+10\n",
      "3               iota    1.475225e+10\n",
      "4             ripple    9.365343e+09\n",
      "5               dash    5.794076e+09\n",
      "6           litecoin    5.634498e+09\n",
      "7       bitcoin-gold    4.920065e+09\n",
      "8             monero    4.331688e+09\n",
      "9            cardano    3.231420e+09\n",
      "10  ethereum-classic    2.866555e+09\n",
      "11               nem    2.583927e+09\n",
      "12               eos    2.567610e+09\n",
      "13               neo    2.452898e+09\n",
      "14           stellar    2.407074e+09\n",
      "15          monacoin    1.119571e+09\n",
      "16        bitconnect    1.106525e+09\n",
      "17              lisk    1.046840e+09\n"
     ]
    }
   ],
   "source": [
    "# Selecting everything bigger than 10 billion \n",
    "largecaps = cap.query('market_cap_usd>1000000000')\n",
    "\n",
    "# Printing out largecaps\n",
    "# ... YOUR CODE FOR TASK 9 ...\n",
    "print(\"Markets that capital is Greater than 10 Million\")\n",
    "print(largecaps)"
   ]
  },
  {
   "cell_type": "markdown",
   "metadata": {
    "dc": {
     "key": "67"
    },
    "deletable": false,
    "editable": false,
    "run_control": {
     "frozen": true
    },
    "tags": [
     "context"
    ]
   },
   "source": [
    "## 10. Most coins are tiny\n",
    "<p>Note that many coins are not comparable to large companies in market cap, so let's divert from the original Investopedia definition by merging categories.</p>\n",
    "<p><em>This is all for now. Thanks for completing this project!</em></p>"
   ]
  },
  {
   "cell_type": "code",
   "execution_count": 13,
   "metadata": {
    "dc": {
     "key": "67"
    },
    "tags": [
     "sample_code"
    ]
   },
   "outputs": [
    {
     "data": {
      "image/png": "[encoded data removed]",
      "text/plain": [
       "<matplotlib.figure.Figure at 0x1e28022fc88>"
      ]
     },
     "metadata": {},
     "output_type": "display_data"
    }
   ],
   "source": [
    "# Making a nice function for counting different marketcaps from the\n",
    "# \"cap\" DataFrame. Returns an int.\n",
    "# INSTRUCTORS NOTE: Since you made it to the end, consider it a gift :D\n",
    "def capcount(query_string):\n",
    "    return cap.query(query_string).count().id\n",
    "\n",
    "# Labels for the plot\n",
    "LABELS = [\"biggish\", \"micro\", \"nano\"]\n",
    "\n",
    "# Using capcount count the biggish cryptos\n",
    "biggish = capcount(\"market_cap_usd > 300000000\")\n",
    "\n",
    "\n",
    "# Same as above for micro ...\n",
    "micro = capcount(\"market_cap_usd > 50000000 & market_cap_usd < 300000000\")\n",
    "\n",
    "# ... and for nano\n",
    "nano =  capcount(\"market_cap_usd < 50000000\")\n",
    "\n",
    "# Making a list with the 3 counts\n",
    "values =[biggish, micro, nano]\n",
    "\n",
    "# Plotting them with matplotlib \n",
    "# ... YOUR CODE FOR TASK 10 ...\n",
    "plt.bar(LABELS,values)\n",
    "plt.show()"
   ]
  },
  {
   "cell_type": "code",
   "execution_count": null,
   "metadata": {
    "collapsed": true
   },
   "outputs": [],
   "source": []
  }
 ],
 "metadata": {
  "kernelspec": {
   "display_name": "Python 3",
   "language": "python",
   "name": "python3"
  },
  "language_info": {
   "codemirror_mode": {
    "name": "ipython",
    "version": 3
   },
   "file_extension": ".py",
   "mimetype": "text/x-python",
   "name": "python",
   "nbconvert_exporter": "python",
   "pygments_lexer": "ipython3",
   "version": "3.6.3"
  }
 },
 "nbformat": 4,
 "nbformat_minor": 2
}
